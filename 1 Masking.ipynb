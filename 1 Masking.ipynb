{
 "cells": [
  {
   "cell_type": "code",
   "execution_count": null,
   "source": [
    "#Import\r\n",
    "import pandas as pd\r\n",
    "import numpy as ny\r\n",
    "import rasterio\r\n",
    "import matplotlib\r\n",
    "from rasterio.plot import show\r\n",
    "from osgeo import gdal\r\n",
    "from osgeo import gdal_array\r\n",
    "\r\n",
    "#GroundWater\r\n",
    "\r\n",
    "gwr = gdal.Open(r'E:\\Fast SF\\2003\\gw.tif')\r\n",
    "gwb=gwr.GetRasterBand(1)\r\n",
    "gwt=gwr.GetGeoTransform()\r\n",
    "gwp=gwr.GetProjection()\r\n",
    "rgw = gwr.ReadAsArray()\r\n",
    "nodata = gwb.GetNoDataValue()\r\n",
    "rgw = ny.ma.masked_equal(rgw, nodata)\r\n",
    "#print(rgw.min())\r\n",
    "#print(rgw.max())\r\n",
    "show(rgw)\r\n",
    "\r\n"
   ],
   "outputs": [],
   "metadata": {}
  },
  {
   "cell_type": "code",
   "execution_count": null,
   "source": [
    "#ET\r\n",
    "\r\n",
    "etr = gdal.Open(r'E:\\Fast SF\\2003\\et.tif')\r\n",
    "etb=etr.GetRasterBand(1)\r\n",
    "ret = etr.ReadAsArray()\r\n",
    "nodata = etb.GetNoDataValue()\r\n",
    "ret = ny.ma.masked_equal(ret, nodata)\r\n",
    "#print(ref.min())\r\n",
    "#print(ref.max())\r\n",
    "#r=rasterio.open('E:\\Fast SF\\2003\\etprojected.tif')\r\n",
    "show(ret)"
   ],
   "outputs": [],
   "metadata": {}
  },
  {
   "cell_type": "code",
   "execution_count": null,
   "source": [
    "#Removing nodata\r\n",
    "\r\n",
    "ete=ny.zeros((ret.shape[0],ret.shape[1]))\r\n",
    "\r\n",
    "for i in range(7350):\r\n",
    "    for j in range(6507):\r\n",
    "        if ret[i,j]<40000:\r\n",
    "            ete[i,j]=ret[i,j]*0.1\r\n",
    "        else:\r\n",
    "            ete[i,j]=-9999\r\n",
    "\r\n",
    "ete=ny.ma.masked_equal(ete,nodata)\r\n",
    "show(ete)"
   ],
   "outputs": [],
   "metadata": {}
  },
  {
   "cell_type": "code",
   "execution_count": null,
   "source": [
    "driver=gdal.GetDriverByName(\"GTiff\")\r\n",
    "driver.Register()\r\n",
    "oete=driver.Create('etm2003.tif',xsize=ete.shape[1],ysize=ete.shape[0],bands=1,eType=gdal.GDT_Float32)\r\n",
    "oete.SetGeoTransform(gwt)\r\n",
    "oete.SetProjection(gwp)\r\n",
    "oeteb=oete.GetRasterBand(1)\r\n",
    "oeteb.WriteArray(ete)\r\n",
    "\r\n",
    "#oirrb.FlushCache()\r\n",
    "#oirrb=None\r\n",
    "\r\n",
    "j = gdal.Open(r'E:\\Fast SF\\Python\\etm2003.tif')\r\n",
    "k=j.GetRasterBand(1)\r\n",
    "l = j.ReadAsArray()\r\n",
    "nodata = k.GetNoDataValue()\r\n",
    "l = ny.ma.masked_equal(l, nodata)\r\n",
    "show(l)"
   ],
   "outputs": [],
   "metadata": {}
  },
  {
   "cell_type": "code",
   "execution_count": null,
   "source": [
    "print(ete.min())\r\n",
    "print(ete.max())"
   ],
   "outputs": [],
   "metadata": {}
  }
 ],
 "metadata": {
  "orig_nbformat": 4,
  "language_info": {
   "name": "python",
   "version": "3.9.5",
   "mimetype": "text/x-python",
   "codemirror_mode": {
    "name": "ipython",
    "version": 3
   },
   "pygments_lexer": "ipython3",
   "nbconvert_exporter": "python",
   "file_extension": ".py"
  },
  "kernelspec": {
   "name": "python3",
   "display_name": "Python 3.9.5 64-bit"
  },
  "interpreter": {
   "hash": "9926fdc2744bb0197573e996edfa359e36526de8eaca010feba84e4193f47997"
  }
 },
 "nbformat": 4,
 "nbformat_minor": 2
}